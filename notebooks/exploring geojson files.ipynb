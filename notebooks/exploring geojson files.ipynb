{
 "cells": [
  {
   "cell_type": "markdown",
   "metadata": {},
   "source": [
    "# Intro"
   ]
  },
  {
   "cell_type": "markdown",
   "metadata": {},
   "source": [
    "The current SpaceNet corpus includes thousands of square kilometers of high resolution imagery collected from DigitalGlobe’s commercial satellites which includes 8-band multispectral data. This dataset is being made public to advance the development of algorithms to automatically extract geometric features such as roads, building footprints, and points of interest using satellite imagery.\n",
    "The currently available Areas of Interest (AOI) are:\n",
    "    - Rio de Janeiro\n",
    "    - Paris\n",
    "    - Las Vegas\n",
    "    - Shanghai\n",
    "    - Khartoum\n",
    "\n",
    "The satellite imagery, along with training data, is provided via a collaboration between DigitalGlobe, CosmiQ Works, and NVIDIA."
   ]
  },
  {
   "cell_type": "markdown",
   "metadata": {},
   "source": [
    "This notebook explores the geojson file from Spacenet's 1 AOI 1 – Rio – Building Extraction Training challenge\n",
    "\n",
    "This dataset has 6,940 processed 200mx200m tiles of AOI 1 (23 GB) with associated building footprints for training "
   ]
  },
  {
   "cell_type": "code",
   "execution_count": 1,
   "metadata": {},
   "outputs": [],
   "source": [
    "import os\n",
    "import json\n",
    "import geopandas as gpd\n",
    "import numpy as np\n",
    "import pandas as pd\n",
    "from pandas import DataFrame\n",
    "import glob\n",
    "import seaborn as sns\n",
    "from pathlib import Path\n",
    "import matplotlib.pyplot as plt\n",
    "%matplotlib inline"
   ]
  },
  {
   "cell_type": "markdown",
   "metadata": {},
   "source": [
    "### You can find the dataset at the URL:  https://spacenet.ai/spacenet-buildings-dataset-v1/\n",
    "        \n",
    "### If you want to download the data you will need an AWS account, the aws cli.  No charge to get the data"
   ]
  },
  {
   "cell_type": "code",
   "execution_count": 2,
   "metadata": {},
   "outputs": [],
   "source": [
    "images_folder = \"data/processedBuildingLabels/3band/\"\n",
    "labels_folder = \"data/processedBuildingLabels/vectordata/geojson/\"\n",
    "lf = \"data/processedBuildingLabels/vectordata/geojson/*.geojson\""
   ]
  },
  {
   "cell_type": "markdown",
   "metadata": {},
   "source": [
    "### you can associate the geojon file with the .tff files by the number img<number>"
   ]
  },
  {
   "cell_type": "code",
   "execution_count": 3,
   "metadata": {},
   "outputs": [],
   "source": [
    "# print([name for name in os.listdir(labels_folder)])"
   ]
  },
  {
   "cell_type": "code",
   "execution_count": 4,
   "metadata": {},
   "outputs": [],
   "source": [
    "# make it easy to see json\n",
    "geo1 = \"data/processedBuildingLabels/vectordata/geojson/Geo_AOI_1_RIO_img5394.geojson\"\n",
    "\n",
    "with open(geo1, 'r') as j:\n",
    "     geo2 = json.loads(j.read())\n",
    "#print(contents)\n",
    "#print(json.dumps(geo2, indent=4, sort_keys=True))"
   ]
  },
  {
   "cell_type": "code",
   "execution_count": 5,
   "metadata": {},
   "outputs": [
    {
     "data": {
      "text/plain": [
       "(70, 20)"
      ]
     },
     "execution_count": 5,
     "metadata": {},
     "output_type": "execute_result"
    }
   ],
   "source": [
    "# preference to use pandas dataframes\n",
    "\n",
    "df_2 = pd.DataFrame() \n",
    "with open(geo1, 'r') as j:\n",
    "    df_geo2 = gpd.read_file(geo1)\n",
    "    df_2 = df_2.append(df_geo2)\n",
    "    df_2['fname'] = geo1\n",
    "df_2.shape"
   ]
  },
  {
   "cell_type": "code",
   "execution_count": 6,
   "metadata": {},
   "outputs": [
    {
     "data": {
      "text/html": [
       "<div>\n",
       "<style scoped>\n",
       "    .dataframe tbody tr th:only-of-type {\n",
       "        vertical-align: middle;\n",
       "    }\n",
       "\n",
       "    .dataframe tbody tr th {\n",
       "        vertical-align: top;\n",
       "    }\n",
       "\n",
       "    .dataframe thead th {\n",
       "        text-align: right;\n",
       "    }\n",
       "</style>\n",
       "<table border=\"1\" class=\"dataframe\">\n",
       "  <thead>\n",
       "    <tr style=\"text-align: right;\">\n",
       "      <th></th>\n",
       "      <th>timestamp</th>\n",
       "      <th>version</th>\n",
       "      <th>changeset</th>\n",
       "      <th>user</th>\n",
       "      <th>uid</th>\n",
       "      <th>HGIS_OID</th>\n",
       "      <th>building</th>\n",
       "      <th>type</th>\n",
       "      <th>id</th>\n",
       "      <th>area</th>\n",
       "      <th>QAStatus</th>\n",
       "      <th>HGISOID</th>\n",
       "      <th>TaskArea</th>\n",
       "      <th>Revision1</th>\n",
       "      <th>Shape_Leng</th>\n",
       "      <th>Shape_Area</th>\n",
       "      <th>partialBuilding</th>\n",
       "      <th>partialDec</th>\n",
       "      <th>geometry</th>\n",
       "      <th>fname</th>\n",
       "    </tr>\n",
       "  </thead>\n",
       "  <tbody>\n",
       "    <tr>\n",
       "      <th>0</th>\n",
       "      <td>2016-06-24T20:32:10+00:00</td>\n",
       "      <td>1</td>\n",
       "      <td>5824</td>\n",
       "      <td>Derick</td>\n",
       "      <td>43</td>\n",
       "      <td>119074.0</td>\n",
       "      <td>yes</td>\n",
       "      <td>None</td>\n",
       "      <td>way/170206</td>\n",
       "      <td>yes</td>\n",
       "      <td>Modified_Original_Rev1</td>\n",
       "      <td>119074.0</td>\n",
       "      <td>West</td>\n",
       "      <td>Yes</td>\n",
       "      <td>0.000629</td>\n",
       "      <td>0.0</td>\n",
       "      <td>1.0</td>\n",
       "      <td>0.906931</td>\n",
       "      <td>POLYGON Z ((-43.55156 -22.86918 0.00000, -43.5...</td>\n",
       "      <td>data/processedBuildingLabels/vectordata/geojso...</td>\n",
       "    </tr>\n",
       "    <tr>\n",
       "      <th>1</th>\n",
       "      <td>2016-06-24T20:41:14+00:00</td>\n",
       "      <td>1</td>\n",
       "      <td>5824</td>\n",
       "      <td>Derick</td>\n",
       "      <td>43</td>\n",
       "      <td>119072.0</td>\n",
       "      <td>yes</td>\n",
       "      <td>None</td>\n",
       "      <td>way/175342</td>\n",
       "      <td>yes</td>\n",
       "      <td>Modified_Original_Rev1</td>\n",
       "      <td>119072.0</td>\n",
       "      <td>West</td>\n",
       "      <td>Yes</td>\n",
       "      <td>0.000270</td>\n",
       "      <td>0.0</td>\n",
       "      <td>0.0</td>\n",
       "      <td>1.000000</td>\n",
       "      <td>POLYGON Z ((-43.55158 -22.86964 0.00000, -43.5...</td>\n",
       "      <td>data/processedBuildingLabels/vectordata/geojso...</td>\n",
       "    </tr>\n",
       "    <tr>\n",
       "      <th>2</th>\n",
       "      <td>2016-06-24T20:48:44+00:00</td>\n",
       "      <td>1</td>\n",
       "      <td>5837</td>\n",
       "      <td>Derick</td>\n",
       "      <td>43</td>\n",
       "      <td>119073.0</td>\n",
       "      <td>yes</td>\n",
       "      <td>None</td>\n",
       "      <td>way/181096</td>\n",
       "      <td>yes</td>\n",
       "      <td>Modified_Original_Rev1</td>\n",
       "      <td>119073.0</td>\n",
       "      <td>West</td>\n",
       "      <td>Yes</td>\n",
       "      <td>0.000343</td>\n",
       "      <td>0.0</td>\n",
       "      <td>0.0</td>\n",
       "      <td>1.000000</td>\n",
       "      <td>POLYGON Z ((-43.55161 -22.86941 0.00000, -43.5...</td>\n",
       "      <td>data/processedBuildingLabels/vectordata/geojso...</td>\n",
       "    </tr>\n",
       "    <tr>\n",
       "      <th>3</th>\n",
       "      <td>2016-06-24T20:48:56+00:00</td>\n",
       "      <td>1</td>\n",
       "      <td>5837</td>\n",
       "      <td>Derick</td>\n",
       "      <td>43</td>\n",
       "      <td>118957.0</td>\n",
       "      <td>yes</td>\n",
       "      <td>None</td>\n",
       "      <td>way/181261</td>\n",
       "      <td>yes</td>\n",
       "      <td>Original_Building</td>\n",
       "      <td>118957.0</td>\n",
       "      <td>West</td>\n",
       "      <td>No</td>\n",
       "      <td>0.000329</td>\n",
       "      <td>0.0</td>\n",
       "      <td>1.0</td>\n",
       "      <td>0.040668</td>\n",
       "      <td>POLYGON Z ((-43.55306 -22.87088 0.00000, -43.5...</td>\n",
       "      <td>data/processedBuildingLabels/vectordata/geojso...</td>\n",
       "    </tr>\n",
       "    <tr>\n",
       "      <th>4</th>\n",
       "      <td>2016-06-24T20:52:35+00:00</td>\n",
       "      <td>1</td>\n",
       "      <td>5837</td>\n",
       "      <td>Derick</td>\n",
       "      <td>43</td>\n",
       "      <td>119003.0</td>\n",
       "      <td>yes</td>\n",
       "      <td>None</td>\n",
       "      <td>way/184265</td>\n",
       "      <td>yes</td>\n",
       "      <td>Original_Building</td>\n",
       "      <td>119003.0</td>\n",
       "      <td>West</td>\n",
       "      <td>No</td>\n",
       "      <td>0.000411</td>\n",
       "      <td>0.0</td>\n",
       "      <td>1.0</td>\n",
       "      <td>0.957360</td>\n",
       "      <td>POLYGON Z ((-43.55220 -22.87088 0.00000, -43.5...</td>\n",
       "      <td>data/processedBuildingLabels/vectordata/geojso...</td>\n",
       "    </tr>\n",
       "  </tbody>\n",
       "</table>\n",
       "</div>"
      ],
      "text/plain": [
       "                   timestamp version changeset    user uid  HGIS_OID building  \\\n",
       "0  2016-06-24T20:32:10+00:00       1      5824  Derick  43  119074.0      yes   \n",
       "1  2016-06-24T20:41:14+00:00       1      5824  Derick  43  119072.0      yes   \n",
       "2  2016-06-24T20:48:44+00:00       1      5837  Derick  43  119073.0      yes   \n",
       "3  2016-06-24T20:48:56+00:00       1      5837  Derick  43  118957.0      yes   \n",
       "4  2016-06-24T20:52:35+00:00       1      5837  Derick  43  119003.0      yes   \n",
       "\n",
       "   type          id area                QAStatus   HGISOID TaskArea Revision1  \\\n",
       "0  None  way/170206  yes  Modified_Original_Rev1  119074.0     West       Yes   \n",
       "1  None  way/175342  yes  Modified_Original_Rev1  119072.0     West       Yes   \n",
       "2  None  way/181096  yes  Modified_Original_Rev1  119073.0     West       Yes   \n",
       "3  None  way/181261  yes       Original_Building  118957.0     West        No   \n",
       "4  None  way/184265  yes       Original_Building  119003.0     West        No   \n",
       "\n",
       "   Shape_Leng  Shape_Area  partialBuilding  partialDec  \\\n",
       "0    0.000629         0.0              1.0    0.906931   \n",
       "1    0.000270         0.0              0.0    1.000000   \n",
       "2    0.000343         0.0              0.0    1.000000   \n",
       "3    0.000329         0.0              1.0    0.040668   \n",
       "4    0.000411         0.0              1.0    0.957360   \n",
       "\n",
       "                                            geometry  \\\n",
       "0  POLYGON Z ((-43.55156 -22.86918 0.00000, -43.5...   \n",
       "1  POLYGON Z ((-43.55158 -22.86964 0.00000, -43.5...   \n",
       "2  POLYGON Z ((-43.55161 -22.86941 0.00000, -43.5...   \n",
       "3  POLYGON Z ((-43.55306 -22.87088 0.00000, -43.5...   \n",
       "4  POLYGON Z ((-43.55220 -22.87088 0.00000, -43.5...   \n",
       "\n",
       "                                               fname  \n",
       "0  data/processedBuildingLabels/vectordata/geojso...  \n",
       "1  data/processedBuildingLabels/vectordata/geojso...  \n",
       "2  data/processedBuildingLabels/vectordata/geojso...  \n",
       "3  data/processedBuildingLabels/vectordata/geojso...  \n",
       "4  data/processedBuildingLabels/vectordata/geojso...  "
      ]
     },
     "execution_count": 6,
     "metadata": {},
     "output_type": "execute_result"
    }
   ],
   "source": [
    "df_2.head()"
   ]
  },
  {
   "cell_type": "code",
   "execution_count": 7,
   "metadata": {},
   "outputs": [],
   "source": [
    "df_3 = pd.DataFrame() \n",
    "df_3 = df_2.copy()\n",
    "df_3['building_cnt'] = [1 if x =='yes' else 0 for x in df_2['building']]"
   ]
  },
  {
   "cell_type": "code",
   "execution_count": 8,
   "metadata": {},
   "outputs": [
    {
     "data": {
      "text/html": [
       "<div>\n",
       "<style scoped>\n",
       "    .dataframe tbody tr th:only-of-type {\n",
       "        vertical-align: middle;\n",
       "    }\n",
       "\n",
       "    .dataframe tbody tr th {\n",
       "        vertical-align: top;\n",
       "    }\n",
       "\n",
       "    .dataframe thead th {\n",
       "        text-align: right;\n",
       "    }\n",
       "</style>\n",
       "<table border=\"1\" class=\"dataframe\">\n",
       "  <thead>\n",
       "    <tr style=\"text-align: right;\">\n",
       "      <th></th>\n",
       "      <th>timestamp</th>\n",
       "      <th>version</th>\n",
       "      <th>changeset</th>\n",
       "      <th>user</th>\n",
       "      <th>uid</th>\n",
       "      <th>HGIS_OID</th>\n",
       "      <th>building</th>\n",
       "      <th>type</th>\n",
       "      <th>id</th>\n",
       "      <th>area</th>\n",
       "      <th>...</th>\n",
       "      <th>HGISOID</th>\n",
       "      <th>TaskArea</th>\n",
       "      <th>Revision1</th>\n",
       "      <th>Shape_Leng</th>\n",
       "      <th>Shape_Area</th>\n",
       "      <th>partialBuilding</th>\n",
       "      <th>partialDec</th>\n",
       "      <th>geometry</th>\n",
       "      <th>fname</th>\n",
       "      <th>building_cnt</th>\n",
       "    </tr>\n",
       "  </thead>\n",
       "  <tbody>\n",
       "    <tr>\n",
       "      <th>0</th>\n",
       "      <td>2016-06-24T20:32:10+00:00</td>\n",
       "      <td>1</td>\n",
       "      <td>5824</td>\n",
       "      <td>Derick</td>\n",
       "      <td>43</td>\n",
       "      <td>119074.0</td>\n",
       "      <td>yes</td>\n",
       "      <td>None</td>\n",
       "      <td>way/170206</td>\n",
       "      <td>yes</td>\n",
       "      <td>...</td>\n",
       "      <td>119074.0</td>\n",
       "      <td>West</td>\n",
       "      <td>Yes</td>\n",
       "      <td>0.000629</td>\n",
       "      <td>0.0</td>\n",
       "      <td>1.0</td>\n",
       "      <td>0.906931</td>\n",
       "      <td>POLYGON Z ((-43.55156 -22.86918 0.00000, -43.5...</td>\n",
       "      <td>data/processedBuildingLabels/vectordata/geojso...</td>\n",
       "      <td>1</td>\n",
       "    </tr>\n",
       "    <tr>\n",
       "      <th>1</th>\n",
       "      <td>2016-06-24T20:41:14+00:00</td>\n",
       "      <td>1</td>\n",
       "      <td>5824</td>\n",
       "      <td>Derick</td>\n",
       "      <td>43</td>\n",
       "      <td>119072.0</td>\n",
       "      <td>yes</td>\n",
       "      <td>None</td>\n",
       "      <td>way/175342</td>\n",
       "      <td>yes</td>\n",
       "      <td>...</td>\n",
       "      <td>119072.0</td>\n",
       "      <td>West</td>\n",
       "      <td>Yes</td>\n",
       "      <td>0.000270</td>\n",
       "      <td>0.0</td>\n",
       "      <td>0.0</td>\n",
       "      <td>1.000000</td>\n",
       "      <td>POLYGON Z ((-43.55158 -22.86964 0.00000, -43.5...</td>\n",
       "      <td>data/processedBuildingLabels/vectordata/geojso...</td>\n",
       "      <td>1</td>\n",
       "    </tr>\n",
       "    <tr>\n",
       "      <th>2</th>\n",
       "      <td>2016-06-24T20:48:44+00:00</td>\n",
       "      <td>1</td>\n",
       "      <td>5837</td>\n",
       "      <td>Derick</td>\n",
       "      <td>43</td>\n",
       "      <td>119073.0</td>\n",
       "      <td>yes</td>\n",
       "      <td>None</td>\n",
       "      <td>way/181096</td>\n",
       "      <td>yes</td>\n",
       "      <td>...</td>\n",
       "      <td>119073.0</td>\n",
       "      <td>West</td>\n",
       "      <td>Yes</td>\n",
       "      <td>0.000343</td>\n",
       "      <td>0.0</td>\n",
       "      <td>0.0</td>\n",
       "      <td>1.000000</td>\n",
       "      <td>POLYGON Z ((-43.55161 -22.86941 0.00000, -43.5...</td>\n",
       "      <td>data/processedBuildingLabels/vectordata/geojso...</td>\n",
       "      <td>1</td>\n",
       "    </tr>\n",
       "    <tr>\n",
       "      <th>3</th>\n",
       "      <td>2016-06-24T20:48:56+00:00</td>\n",
       "      <td>1</td>\n",
       "      <td>5837</td>\n",
       "      <td>Derick</td>\n",
       "      <td>43</td>\n",
       "      <td>118957.0</td>\n",
       "      <td>yes</td>\n",
       "      <td>None</td>\n",
       "      <td>way/181261</td>\n",
       "      <td>yes</td>\n",
       "      <td>...</td>\n",
       "      <td>118957.0</td>\n",
       "      <td>West</td>\n",
       "      <td>No</td>\n",
       "      <td>0.000329</td>\n",
       "      <td>0.0</td>\n",
       "      <td>1.0</td>\n",
       "      <td>0.040668</td>\n",
       "      <td>POLYGON Z ((-43.55306 -22.87088 0.00000, -43.5...</td>\n",
       "      <td>data/processedBuildingLabels/vectordata/geojso...</td>\n",
       "      <td>1</td>\n",
       "    </tr>\n",
       "    <tr>\n",
       "      <th>4</th>\n",
       "      <td>2016-06-24T20:52:35+00:00</td>\n",
       "      <td>1</td>\n",
       "      <td>5837</td>\n",
       "      <td>Derick</td>\n",
       "      <td>43</td>\n",
       "      <td>119003.0</td>\n",
       "      <td>yes</td>\n",
       "      <td>None</td>\n",
       "      <td>way/184265</td>\n",
       "      <td>yes</td>\n",
       "      <td>...</td>\n",
       "      <td>119003.0</td>\n",
       "      <td>West</td>\n",
       "      <td>No</td>\n",
       "      <td>0.000411</td>\n",
       "      <td>0.0</td>\n",
       "      <td>1.0</td>\n",
       "      <td>0.957360</td>\n",
       "      <td>POLYGON Z ((-43.55220 -22.87088 0.00000, -43.5...</td>\n",
       "      <td>data/processedBuildingLabels/vectordata/geojso...</td>\n",
       "      <td>1</td>\n",
       "    </tr>\n",
       "  </tbody>\n",
       "</table>\n",
       "<p>5 rows × 21 columns</p>\n",
       "</div>"
      ],
      "text/plain": [
       "                   timestamp version changeset    user uid  HGIS_OID building  \\\n",
       "0  2016-06-24T20:32:10+00:00       1      5824  Derick  43  119074.0      yes   \n",
       "1  2016-06-24T20:41:14+00:00       1      5824  Derick  43  119072.0      yes   \n",
       "2  2016-06-24T20:48:44+00:00       1      5837  Derick  43  119073.0      yes   \n",
       "3  2016-06-24T20:48:56+00:00       1      5837  Derick  43  118957.0      yes   \n",
       "4  2016-06-24T20:52:35+00:00       1      5837  Derick  43  119003.0      yes   \n",
       "\n",
       "   type          id area  ...   HGISOID  TaskArea Revision1 Shape_Leng  \\\n",
       "0  None  way/170206  yes  ...  119074.0      West       Yes   0.000629   \n",
       "1  None  way/175342  yes  ...  119072.0      West       Yes   0.000270   \n",
       "2  None  way/181096  yes  ...  119073.0      West       Yes   0.000343   \n",
       "3  None  way/181261  yes  ...  118957.0      West        No   0.000329   \n",
       "4  None  way/184265  yes  ...  119003.0      West        No   0.000411   \n",
       "\n",
       "   Shape_Area  partialBuilding  partialDec  \\\n",
       "0         0.0              1.0    0.906931   \n",
       "1         0.0              0.0    1.000000   \n",
       "2         0.0              0.0    1.000000   \n",
       "3         0.0              1.0    0.040668   \n",
       "4         0.0              1.0    0.957360   \n",
       "\n",
       "                                            geometry  \\\n",
       "0  POLYGON Z ((-43.55156 -22.86918 0.00000, -43.5...   \n",
       "1  POLYGON Z ((-43.55158 -22.86964 0.00000, -43.5...   \n",
       "2  POLYGON Z ((-43.55161 -22.86941 0.00000, -43.5...   \n",
       "3  POLYGON Z ((-43.55306 -22.87088 0.00000, -43.5...   \n",
       "4  POLYGON Z ((-43.55220 -22.87088 0.00000, -43.5...   \n",
       "\n",
       "                                               fname building_cnt  \n",
       "0  data/processedBuildingLabels/vectordata/geojso...            1  \n",
       "1  data/processedBuildingLabels/vectordata/geojso...            1  \n",
       "2  data/processedBuildingLabels/vectordata/geojso...            1  \n",
       "3  data/processedBuildingLabels/vectordata/geojso...            1  \n",
       "4  data/processedBuildingLabels/vectordata/geojso...            1  \n",
       "\n",
       "[5 rows x 21 columns]"
      ]
     },
     "execution_count": 8,
     "metadata": {},
     "output_type": "execute_result"
    }
   ],
   "source": [
    "df_3.head()"
   ]
  },
  {
   "cell_type": "code",
   "execution_count": 9,
   "metadata": {},
   "outputs": [],
   "source": [
    "dist_temp = df_3.groupby('fname', as_index=False).agg({\"building_cnt\": \"sum\"})"
   ]
  },
  {
   "cell_type": "code",
   "execution_count": 10,
   "metadata": {},
   "outputs": [
    {
     "data": {
      "text/html": [
       "<div>\n",
       "<style scoped>\n",
       "    .dataframe tbody tr th:only-of-type {\n",
       "        vertical-align: middle;\n",
       "    }\n",
       "\n",
       "    .dataframe tbody tr th {\n",
       "        vertical-align: top;\n",
       "    }\n",
       "\n",
       "    .dataframe thead th {\n",
       "        text-align: right;\n",
       "    }\n",
       "</style>\n",
       "<table border=\"1\" class=\"dataframe\">\n",
       "  <thead>\n",
       "    <tr style=\"text-align: right;\">\n",
       "      <th></th>\n",
       "      <th>fname</th>\n",
       "      <th>building_cnt</th>\n",
       "    </tr>\n",
       "  </thead>\n",
       "  <tbody>\n",
       "    <tr>\n",
       "      <th>0</th>\n",
       "      <td>data/processedBuildingLabels/vectordata/geojso...</td>\n",
       "      <td>70</td>\n",
       "    </tr>\n",
       "  </tbody>\n",
       "</table>\n",
       "</div>"
      ],
      "text/plain": [
       "                                               fname  building_cnt\n",
       "0  data/processedBuildingLabels/vectordata/geojso...            70"
      ]
     },
     "execution_count": 10,
     "metadata": {},
     "output_type": "execute_result"
    }
   ],
   "source": [
    "dist_temp"
   ]
  },
  {
   "cell_type": "code",
   "execution_count": 11,
   "metadata": {},
   "outputs": [],
   "source": [
    "df_a = gpd.read_file(geo1)"
   ]
  },
  {
   "cell_type": "code",
   "execution_count": 12,
   "metadata": {},
   "outputs": [
    {
     "data": {
      "text/html": [
       "<div>\n",
       "<style scoped>\n",
       "    .dataframe tbody tr th:only-of-type {\n",
       "        vertical-align: middle;\n",
       "    }\n",
       "\n",
       "    .dataframe tbody tr th {\n",
       "        vertical-align: top;\n",
       "    }\n",
       "\n",
       "    .dataframe thead th {\n",
       "        text-align: right;\n",
       "    }\n",
       "</style>\n",
       "<table border=\"1\" class=\"dataframe\">\n",
       "  <thead>\n",
       "    <tr style=\"text-align: right;\">\n",
       "      <th></th>\n",
       "      <th>timestamp</th>\n",
       "      <th>version</th>\n",
       "      <th>changeset</th>\n",
       "      <th>user</th>\n",
       "      <th>uid</th>\n",
       "      <th>HGIS_OID</th>\n",
       "      <th>building</th>\n",
       "      <th>type</th>\n",
       "      <th>id</th>\n",
       "      <th>area</th>\n",
       "      <th>QAStatus</th>\n",
       "      <th>HGISOID</th>\n",
       "      <th>TaskArea</th>\n",
       "      <th>Revision1</th>\n",
       "      <th>Shape_Leng</th>\n",
       "      <th>Shape_Area</th>\n",
       "      <th>partialBuilding</th>\n",
       "      <th>partialDec</th>\n",
       "      <th>geometry</th>\n",
       "      <th>fname</th>\n",
       "    </tr>\n",
       "  </thead>\n",
       "  <tbody>\n",
       "    <tr>\n",
       "      <th>0</th>\n",
       "      <td>2016-06-24T20:32:10+00:00</td>\n",
       "      <td>1</td>\n",
       "      <td>5824</td>\n",
       "      <td>Derick</td>\n",
       "      <td>43</td>\n",
       "      <td>119074.0</td>\n",
       "      <td>yes</td>\n",
       "      <td>None</td>\n",
       "      <td>way/170206</td>\n",
       "      <td>yes</td>\n",
       "      <td>Modified_Original_Rev1</td>\n",
       "      <td>119074.0</td>\n",
       "      <td>West</td>\n",
       "      <td>Yes</td>\n",
       "      <td>0.000629</td>\n",
       "      <td>0.0</td>\n",
       "      <td>1.0</td>\n",
       "      <td>0.906931</td>\n",
       "      <td>POLYGON Z ((-43.55156 -22.86918 0.00000, -43.5...</td>\n",
       "      <td>data/processedBuildingLabels/vectordata/geojso...</td>\n",
       "    </tr>\n",
       "    <tr>\n",
       "      <th>1</th>\n",
       "      <td>2016-06-24T20:41:14+00:00</td>\n",
       "      <td>1</td>\n",
       "      <td>5824</td>\n",
       "      <td>Derick</td>\n",
       "      <td>43</td>\n",
       "      <td>119072.0</td>\n",
       "      <td>yes</td>\n",
       "      <td>None</td>\n",
       "      <td>way/175342</td>\n",
       "      <td>yes</td>\n",
       "      <td>Modified_Original_Rev1</td>\n",
       "      <td>119072.0</td>\n",
       "      <td>West</td>\n",
       "      <td>Yes</td>\n",
       "      <td>0.000270</td>\n",
       "      <td>0.0</td>\n",
       "      <td>0.0</td>\n",
       "      <td>1.000000</td>\n",
       "      <td>POLYGON Z ((-43.55158 -22.86964 0.00000, -43.5...</td>\n",
       "      <td>data/processedBuildingLabels/vectordata/geojso...</td>\n",
       "    </tr>\n",
       "    <tr>\n",
       "      <th>2</th>\n",
       "      <td>2016-06-24T20:48:44+00:00</td>\n",
       "      <td>1</td>\n",
       "      <td>5837</td>\n",
       "      <td>Derick</td>\n",
       "      <td>43</td>\n",
       "      <td>119073.0</td>\n",
       "      <td>yes</td>\n",
       "      <td>None</td>\n",
       "      <td>way/181096</td>\n",
       "      <td>yes</td>\n",
       "      <td>Modified_Original_Rev1</td>\n",
       "      <td>119073.0</td>\n",
       "      <td>West</td>\n",
       "      <td>Yes</td>\n",
       "      <td>0.000343</td>\n",
       "      <td>0.0</td>\n",
       "      <td>0.0</td>\n",
       "      <td>1.000000</td>\n",
       "      <td>POLYGON Z ((-43.55161 -22.86941 0.00000, -43.5...</td>\n",
       "      <td>data/processedBuildingLabels/vectordata/geojso...</td>\n",
       "    </tr>\n",
       "    <tr>\n",
       "      <th>3</th>\n",
       "      <td>2016-06-24T20:48:56+00:00</td>\n",
       "      <td>1</td>\n",
       "      <td>5837</td>\n",
       "      <td>Derick</td>\n",
       "      <td>43</td>\n",
       "      <td>118957.0</td>\n",
       "      <td>yes</td>\n",
       "      <td>None</td>\n",
       "      <td>way/181261</td>\n",
       "      <td>yes</td>\n",
       "      <td>Original_Building</td>\n",
       "      <td>118957.0</td>\n",
       "      <td>West</td>\n",
       "      <td>No</td>\n",
       "      <td>0.000329</td>\n",
       "      <td>0.0</td>\n",
       "      <td>1.0</td>\n",
       "      <td>0.040668</td>\n",
       "      <td>POLYGON Z ((-43.55306 -22.87088 0.00000, -43.5...</td>\n",
       "      <td>data/processedBuildingLabels/vectordata/geojso...</td>\n",
       "    </tr>\n",
       "    <tr>\n",
       "      <th>4</th>\n",
       "      <td>2016-06-24T20:52:35+00:00</td>\n",
       "      <td>1</td>\n",
       "      <td>5837</td>\n",
       "      <td>Derick</td>\n",
       "      <td>43</td>\n",
       "      <td>119003.0</td>\n",
       "      <td>yes</td>\n",
       "      <td>None</td>\n",
       "      <td>way/184265</td>\n",
       "      <td>yes</td>\n",
       "      <td>Original_Building</td>\n",
       "      <td>119003.0</td>\n",
       "      <td>West</td>\n",
       "      <td>No</td>\n",
       "      <td>0.000411</td>\n",
       "      <td>0.0</td>\n",
       "      <td>1.0</td>\n",
       "      <td>0.957360</td>\n",
       "      <td>POLYGON Z ((-43.55220 -22.87088 0.00000, -43.5...</td>\n",
       "      <td>data/processedBuildingLabels/vectordata/geojso...</td>\n",
       "    </tr>\n",
       "  </tbody>\n",
       "</table>\n",
       "</div>"
      ],
      "text/plain": [
       "                   timestamp version changeset    user uid  HGIS_OID building  \\\n",
       "0  2016-06-24T20:32:10+00:00       1      5824  Derick  43  119074.0      yes   \n",
       "1  2016-06-24T20:41:14+00:00       1      5824  Derick  43  119072.0      yes   \n",
       "2  2016-06-24T20:48:44+00:00       1      5837  Derick  43  119073.0      yes   \n",
       "3  2016-06-24T20:48:56+00:00       1      5837  Derick  43  118957.0      yes   \n",
       "4  2016-06-24T20:52:35+00:00       1      5837  Derick  43  119003.0      yes   \n",
       "\n",
       "   type          id area                QAStatus   HGISOID TaskArea Revision1  \\\n",
       "0  None  way/170206  yes  Modified_Original_Rev1  119074.0     West       Yes   \n",
       "1  None  way/175342  yes  Modified_Original_Rev1  119072.0     West       Yes   \n",
       "2  None  way/181096  yes  Modified_Original_Rev1  119073.0     West       Yes   \n",
       "3  None  way/181261  yes       Original_Building  118957.0     West        No   \n",
       "4  None  way/184265  yes       Original_Building  119003.0     West        No   \n",
       "\n",
       "   Shape_Leng  Shape_Area  partialBuilding  partialDec  \\\n",
       "0    0.000629         0.0              1.0    0.906931   \n",
       "1    0.000270         0.0              0.0    1.000000   \n",
       "2    0.000343         0.0              0.0    1.000000   \n",
       "3    0.000329         0.0              1.0    0.040668   \n",
       "4    0.000411         0.0              1.0    0.957360   \n",
       "\n",
       "                                            geometry  \\\n",
       "0  POLYGON Z ((-43.55156 -22.86918 0.00000, -43.5...   \n",
       "1  POLYGON Z ((-43.55158 -22.86964 0.00000, -43.5...   \n",
       "2  POLYGON Z ((-43.55161 -22.86941 0.00000, -43.5...   \n",
       "3  POLYGON Z ((-43.55306 -22.87088 0.00000, -43.5...   \n",
       "4  POLYGON Z ((-43.55220 -22.87088 0.00000, -43.5...   \n",
       "\n",
       "                                               fname  \n",
       "0  data/processedBuildingLabels/vectordata/geojso...  \n",
       "1  data/processedBuildingLabels/vectordata/geojso...  \n",
       "2  data/processedBuildingLabels/vectordata/geojso...  \n",
       "3  data/processedBuildingLabels/vectordata/geojso...  \n",
       "4  data/processedBuildingLabels/vectordata/geojso...  "
      ]
     },
     "execution_count": 12,
     "metadata": {},
     "output_type": "execute_result"
    }
   ],
   "source": [
    "df_a['fname'] = geo1\n",
    "df_a.head()"
   ]
  },
  {
   "cell_type": "code",
   "execution_count": 13,
   "metadata": {},
   "outputs": [],
   "source": [
    "df_a['building_cnt'] = [1 if x =='yes' else 0 for x in df_a['building']] "
   ]
  },
  {
   "cell_type": "code",
   "execution_count": 14,
   "metadata": {},
   "outputs": [
    {
     "data": {
      "text/plain": [
       "70"
      ]
     },
     "execution_count": 14,
     "metadata": {},
     "output_type": "execute_result"
    }
   ],
   "source": [
    "df_a['building_cnt'].count()"
   ]
  },
  {
   "cell_type": "code",
   "execution_count": 15,
   "metadata": {},
   "outputs": [],
   "source": [
    "file_list = glob.glob(lf)\n",
    "#file_list"
   ]
  },
  {
   "cell_type": "code",
   "execution_count": 16,
   "metadata": {},
   "outputs": [
    {
     "name": "stdout",
     "output_type": "stream",
     "text": [
      "done\n"
     ]
    }
   ],
   "source": [
    "# not efficient, get a cup of your favorite beverage, it has to get to 6,940\n",
    "df = pd.DataFrame() \n",
    "df_tmp = pd.DataFrame()\n",
    "cnt = 0\n",
    "pathlist = Path(labels_folder).rglob('*.geojson') \n",
    "\n",
    "for path in pathlist:\n",
    "    path1 = str(path)\n",
    "    with open(geo1, 'r') as j:\n",
    "        df_tmp = gpd.read_file(path1)\n",
    "        df_tmp['fname'] = path1\n",
    "        df = df.append(df_tmp)\n",
    "        cnt += 1\n",
    "      #  print(cnt)\n",
    "# this takes a while to run\n",
    "print('done')"
   ]
  },
  {
   "cell_type": "code",
   "execution_count": 17,
   "metadata": {},
   "outputs": [],
   "source": [
    "dfa = pd.DataFrame() \n",
    "dfa = df.copy()\n",
    "dfa['building_cnt'] = [1 if x =='yes' else 0 for x in df['building']]"
   ]
  },
  {
   "cell_type": "markdown",
   "metadata": {},
   "source": [
    "understanding the data\n",
    "I did some spot checks on the geojson coordinates. Could use additional QA"
   ]
  },
  {
   "cell_type": "code",
   "execution_count": 18,
   "metadata": {},
   "outputs": [],
   "source": [
    "dist = dfa.groupby('fname', as_index=False).agg({\"building_cnt\": \"sum\"})"
   ]
  },
  {
   "cell_type": "code",
   "execution_count": 19,
   "metadata": {},
   "outputs": [
    {
     "data": {
      "image/png": "[encoded data removed]",
      "text/plain": [
       "<Figure size 432x288 with 1 Axes>"
      ]
     },
     "metadata": {
      "needs_background": "light"
     },
     "output_type": "display_data"
    }
   ],
   "source": [
    "ax = dist.plot.kde(bw_method=0.3)"
   ]
  },
  {
   "cell_type": "code",
   "execution_count": 20,
   "metadata": {},
   "outputs": [
    {
     "data": {
      "image/png": "[encoded data removed]",
      "text/plain": [
       "<Figure size 432x288 with 1 Axes>"
      ]
     },
     "metadata": {
      "needs_background": "light"
     },
     "output_type": "display_data"
    }
   ],
   "source": [
    "# the majority of the .tif files have very few building\n",
    "# 2,638 of the 6,490 .tif files have no buildings\n",
    "# the data set as shown in the plot below does not have a normal ditribution of buildings\n",
    "# Some of the geojson is not accruate\n",
    "# fun challenge for any data scientist to build a good classifier\n",
    "sns.histplot(dist.building_cnt, kde=True)\n",
    "plt.show()"
   ]
  },
  {
   "cell_type": "code",
   "execution_count": 21,
   "metadata": {},
   "outputs": [
    {
     "data": {
      "text/plain": [
       "(7.0, 34.0, 102.0)"
      ]
     },
     "execution_count": 21,
     "metadata": {},
     "output_type": "execute_result"
    }
   ],
   "source": [
    " np.percentile(dist.building_cnt, 25),np.percentile(dist.building_cnt, 50),np.percentile(dist.building_cnt, 75)  "
   ]
  },
  {
   "cell_type": "code",
   "execution_count": 22,
   "metadata": {},
   "outputs": [
    {
     "data": {
      "image/png": "[encoded data removed]",
      "text/plain": [
       "<Figure size 432x288 with 1 Axes>"
      ]
     },
     "metadata": {
      "needs_background": "light"
     },
     "output_type": "display_data"
    }
   ],
   "source": [
    "ax1 = dist.plot.scatter(x='fname',y='building_cnt',c='DarkBlue')"
   ]
  }
 ],
 "metadata": {
  "kernelspec": {
   "display_name": "Python 3",
   "language": "python",
   "name": "python3"
  },
  "language_info": {
   "codemirror_mode": {
    "name": "ipython",
    "version": 3
   },
   "file_extension": ".py",
   "mimetype": "text/x-python",
   "name": "python",
   "nbconvert_exporter": "python",
   "pygments_lexer": "ipython3",
   "version": "3.6.9"
  }
 },
 "nbformat": 4,
 "nbformat_minor": 4
}
